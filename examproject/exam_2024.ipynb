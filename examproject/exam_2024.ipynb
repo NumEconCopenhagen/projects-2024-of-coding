{
 "cells": [
  {
   "cell_type": "markdown",
   "metadata": {},
   "source": [
    "**Table of contents**<a id='toc0_'></a>    \n",
    "- 1. [Problem 1: Production economy and CO2 taxation](#toc1_)    \n",
    "- 2. [Problem 2: Career choice model](#toc2_)    \n",
    "- 3. [Problem 3: Barycentric interpolation](#toc3_)    \n",
    "\n",
    "<!-- vscode-jupyter-toc-config\n",
    "\tnumbering=true\n",
    "\tanchor=true\n",
    "\tflat=false\n",
    "\tminLevel=2\n",
    "\tmaxLevel=6\n",
    "\t/vscode-jupyter-toc-config -->\n",
    "<!-- THIS CELL WILL BE REPLACED ON TOC UPDATE. DO NOT WRITE YOUR TEXT IN THIS CELL -->"
   ]
  },
  {
   "cell_type": "code",
   "execution_count": 12,
   "metadata": {},
   "outputs": [],
   "source": [
    "# imports and sets magics\n",
    "import numpy as np\n",
    "from types import SimpleNamespace\n",
    "from scipy.optimize import minimize_scalar\n",
    "from scipy.optimize import minimize\n",
    "from scipy.optimize import root\n",
    "from scipy.optimize import minimize_scalar, root\n",
    "%run Problem1.py"
   ]
  },
  {
   "cell_type": "markdown",
   "metadata": {},
   "source": [
    "## 1. <a id='toc1_'></a>[Problem 1: Production economy and CO2 taxation](#toc0_)"
   ]
  },
  {
   "cell_type": "markdown",
   "metadata": {},
   "source": [
    "Consider a production economy with two firms indexed by $j \\in \\{1,2\\}$. Each produce its own good. They solve\n",
    "\n",
    "$$\n",
    "\\begin{align*}\n",
    "\\max_{y_{j}}\\pi_{j}&=p_{j}y_{j}-w_{j}\\ell_{j}\\\\\\text{s.t.}\\;&y_{j}=A\\ell_{j}^{\\gamma}.\n",
    "\\end{align*}\n",
    "$$\n",
    "\n",
    "Optimal firm behavior is\n",
    "\n",
    "$$\n",
    "\\begin{align*}\n",
    "\\ell_{j}^{\\star}(w,p_{j})&=\\left(\\frac{p_{j}A\\gamma}{w}\\right)^{\\frac{1}{1-\\gamma}} \\\\\n",
    "y_{j}^{\\star}(w,p_{j})&=A\\left(\\ell_{j}^{\\star}(w,p_{j})\\right)^{\\gamma}\n",
    "\\end{align*}\n",
    "$$\n",
    "\n",
    "The implied profits are\n",
    "\n",
    "$$\n",
    "\\pi_{j}^*(w,p_{j})=\\frac{1-\\gamma}{\\gamma}w\\cdot\\left(\\frac{p_{j}A\\gamma}{w}\\right)^{\\frac{1}{1-\\gamma}}\n",
    "$$\n",
    "\n",
    "A single consumer supplies labor, and consumes the goods the firms produce. She also recieves the implied profits of the firm.<br>\n",
    "She solves:\n",
    "\n",
    "$$\n",
    "\\begin{align*}\n",
    "U(p_1,p_2,w,\\tau,T) = \\max_{c_{1},c_{2},\\ell} & \\log(c_{1}^{\\alpha}c_{2}^{1-\\alpha})-\\nu\\frac{\\ell^{1+\\epsilon}}{1+\\epsilon} \\\\\n",
    "\\text{s.t.}\\,\\,\\,&p_{1}c_{1}+(p_{2}+\\tau)c_{2}=w\\ell+T+\\pi_{1}^*(w,p_{1})+\\pi_{2}^*(w,p_{2})\n",
    "\\end{align*}\n",
    "$$\n",
    "\n",
    "where $\\tau$ is a tax and $T$ is lump-sum transfer. <br>\n",
    "For a given $\\ell$, it can be shown that optimal behavior is\n",
    "\n",
    "$$\n",
    "\\begin{align*}\n",
    "c_{1}(\\ell)&=\\alpha\\frac{w\\ell+T+\\pi_{1}^*(w,p_{1})+\\pi_{2}^*(w,p_{2})}{p_{1}} \\\\\n",
    "c_{2}(\\ell)&=(1-\\alpha)\\frac{w\\ell+T+\\pi_{1}^*(w,p_{1})+\\pi_{2}^*(w,p_{2})}{p_{2}+\\tau} \\\\\n",
    "\\end{align*}\n",
    "$$\n",
    "Such that optimal behavior is:\n",
    "$$\n",
    "\\ell^* = \\underset{\\ell}{\\arg\\max} \\log(\\left(c_{1}(\\ell)\\right)^{\\alpha}\\cdot \\left(c_{2}(\\ell)\\right)^{1-\\alpha})-\\nu\\frac{\\ell^{1+\\epsilon}}{1+\\epsilon} \n",
    "$$\n",
    "With optimal consumption:\n",
    "$$\n",
    "\\begin{align*}\n",
    "c_1^*=c_{1}(\\ell^*) \\\\\n",
    "c_2^*=c_{2}(\\ell^*)\\\\\n",
    "\\end{align*}\n",
    "$$\n",
    "\n",
    "\n",
    "The government chooses $\\tau$ and balances its budget so $T=\\tau c_2^*$. We initially set $\\tau,T=0$.\n",
    "\n",
    "Market clearing requires:\n",
    "\n",
    "1. Labor market: $\\ell^* = \\ell_1^* + \\ell_2^*$\n",
    "1. Good market 1: $c_1^* = y_1^*$\n",
    "1. Good market 2: $c_2^* = y_2^*$\n"
   ]
  },
  {
   "cell_type": "markdown",
   "metadata": {},
   "source": [
    "**Question 1:** Check market clearing conditions for $p_1$ in `linspace(0.1,2.0,10)` and $p_2$ in `linspace(0.1,2.0,10)`. We choose $w=1$ as numeraire."
   ]
  },
  {
   "cell_type": "code",
   "execution_count": 2,
   "metadata": {},
   "outputs": [],
   "source": [
    "par = SimpleNamespace()\n",
    "\n",
    "# firms\n",
    "par.A = 1.0\n",
    "par.gamma = 0.5\n",
    "\n",
    "# households\n",
    "par.alpha = 0.3\n",
    "par.nu = 1.0\n",
    "par.epsilon = 2.0\n",
    "\n",
    "# government\n",
    "par.tau = 0.0\n",
    "par.T = 0.0\n",
    "\n",
    "# Question 3\n",
    "par.kappa = 0.1"
   ]
  },
  {
   "cell_type": "markdown",
   "metadata": {},
   "source": [
    "We define parametres and functions that will be used all throughaóut problem 1"
   ]
  },
  {
   "cell_type": "markdown",
   "metadata": {},
   "source": [
    "To check for market clearing conditions, we check for all the prices if the markets clear"
   ]
  },
  {
   "cell_type": "code",
   "execution_count": 3,
   "metadata": {},
   "outputs": [
    {
     "name": "stdout",
     "output_type": "stream",
     "text": [
      "p1 = 0.1, p2 = 0.1\n",
      "Labor market clearing: False\n",
      "Good 1 market clearing: False\n",
      "Good 2 market clearing: False\n",
      "---\n",
      "p1 = 0.1, p2 = 0.3\n",
      "Labor market clearing: False\n",
      "Good 1 market clearing: False\n",
      "Good 2 market clearing: False\n",
      "---\n",
      "p1 = 0.1, p2 = 0.5\n",
      "Labor market clearing: False\n",
      "Good 1 market clearing: False\n",
      "Good 2 market clearing: False\n",
      "---\n",
      "p1 = 0.1, p2 = 0.7\n",
      "Labor market clearing: False\n",
      "Good 1 market clearing: False\n",
      "Good 2 market clearing: False\n",
      "---\n",
      "p1 = 0.1, p2 = 0.9\n",
      "Labor market clearing: False\n",
      "Good 1 market clearing: False\n",
      "Good 2 market clearing: False\n",
      "---\n",
      "p1 = 0.1, p2 = 1.2\n",
      "Labor market clearing: False\n",
      "Good 1 market clearing: False\n",
      "Good 2 market clearing: False\n",
      "---\n",
      "p1 = 0.1, p2 = 1.4\n",
      "Labor market clearing: False\n",
      "Good 1 market clearing: False\n",
      "Good 2 market clearing: False\n",
      "---\n",
      "p1 = 0.1, p2 = 1.6\n",
      "Labor market clearing: False\n",
      "Good 1 market clearing: False\n",
      "Good 2 market clearing: False\n",
      "---\n",
      "p1 = 0.1, p2 = 1.8\n",
      "Labor market clearing: False\n",
      "Good 1 market clearing: False\n",
      "Good 2 market clearing: False\n",
      "---\n",
      "p1 = 0.1, p2 = 2.0\n",
      "Labor market clearing: False\n",
      "Good 1 market clearing: False\n",
      "Good 2 market clearing: False\n",
      "---\n",
      "p1 = 0.3, p2 = 0.1\n",
      "Labor market clearing: False\n",
      "Good 1 market clearing: False\n",
      "Good 2 market clearing: False\n",
      "---\n",
      "p1 = 0.3, p2 = 0.3\n",
      "Labor market clearing: False\n",
      "Good 1 market clearing: False\n",
      "Good 2 market clearing: False\n",
      "---\n",
      "p1 = 0.3, p2 = 0.5\n",
      "Labor market clearing: False\n",
      "Good 1 market clearing: False\n",
      "Good 2 market clearing: False\n",
      "---\n",
      "p1 = 0.3, p2 = 0.7\n",
      "Labor market clearing: False\n",
      "Good 1 market clearing: False\n",
      "Good 2 market clearing: False\n",
      "---\n",
      "p1 = 0.3, p2 = 0.9\n",
      "Labor market clearing: False\n",
      "Good 1 market clearing: False\n",
      "Good 2 market clearing: False\n",
      "---\n",
      "p1 = 0.3, p2 = 1.2\n",
      "Labor market clearing: False\n",
      "Good 1 market clearing: False\n",
      "Good 2 market clearing: False\n",
      "---\n",
      "p1 = 0.3, p2 = 1.4\n",
      "Labor market clearing: False\n",
      "Good 1 market clearing: False\n",
      "Good 2 market clearing: False\n",
      "---\n",
      "p1 = 0.3, p2 = 1.6\n",
      "Labor market clearing: False\n",
      "Good 1 market clearing: False\n",
      "Good 2 market clearing: False\n",
      "---\n",
      "p1 = 0.3, p2 = 1.8\n",
      "Labor market clearing: False\n",
      "Good 1 market clearing: False\n",
      "Good 2 market clearing: False\n",
      "---\n",
      "p1 = 0.3, p2 = 2.0\n",
      "Labor market clearing: False\n",
      "Good 1 market clearing: False\n",
      "Good 2 market clearing: False\n",
      "---\n",
      "p1 = 0.5, p2 = 0.1\n",
      "Labor market clearing: False\n",
      "Good 1 market clearing: False\n",
      "Good 2 market clearing: False\n",
      "---\n",
      "p1 = 0.5, p2 = 0.3\n",
      "Labor market clearing: False\n",
      "Good 1 market clearing: False\n",
      "Good 2 market clearing: False\n",
      "---\n",
      "p1 = 0.5, p2 = 0.5\n",
      "Labor market clearing: False\n",
      "Good 1 market clearing: False\n",
      "Good 2 market clearing: False\n",
      "---\n",
      "p1 = 0.5, p2 = 0.7\n",
      "Labor market clearing: False\n",
      "Good 1 market clearing: False\n",
      "Good 2 market clearing: False\n",
      "---\n",
      "p1 = 0.5, p2 = 0.9\n",
      "Labor market clearing: False\n",
      "Good 1 market clearing: False\n",
      "Good 2 market clearing: False\n",
      "---\n",
      "p1 = 0.5, p2 = 1.2\n",
      "Labor market clearing: False\n",
      "Good 1 market clearing: False\n",
      "Good 2 market clearing: False\n",
      "---\n",
      "p1 = 0.5, p2 = 1.4\n",
      "Labor market clearing: False\n",
      "Good 1 market clearing: False\n",
      "Good 2 market clearing: False\n",
      "---\n",
      "p1 = 0.5, p2 = 1.6\n",
      "Labor market clearing: False\n",
      "Good 1 market clearing: False\n",
      "Good 2 market clearing: False\n",
      "---\n",
      "p1 = 0.5, p2 = 1.8\n",
      "Labor market clearing: False\n",
      "Good 1 market clearing: False\n",
      "Good 2 market clearing: False\n",
      "---\n",
      "p1 = 0.5, p2 = 2.0\n",
      "Labor market clearing: False\n",
      "Good 1 market clearing: False\n",
      "Good 2 market clearing: False\n",
      "---\n",
      "p1 = 0.7, p2 = 0.1\n",
      "Labor market clearing: False\n",
      "Good 1 market clearing: False\n",
      "Good 2 market clearing: False\n",
      "---\n",
      "p1 = 0.7, p2 = 0.3\n",
      "Labor market clearing: False\n",
      "Good 1 market clearing: False\n",
      "Good 2 market clearing: False\n",
      "---\n",
      "p1 = 0.7, p2 = 0.5\n",
      "Labor market clearing: False\n",
      "Good 1 market clearing: False\n",
      "Good 2 market clearing: False\n",
      "---\n",
      "p1 = 0.7, p2 = 0.7\n",
      "Labor market clearing: False\n",
      "Good 1 market clearing: False\n",
      "Good 2 market clearing: False\n",
      "---\n",
      "p1 = 0.7, p2 = 0.9\n",
      "Labor market clearing: False\n",
      "Good 1 market clearing: False\n",
      "Good 2 market clearing: False\n",
      "---\n",
      "p1 = 0.7, p2 = 1.2\n",
      "Labor market clearing: False\n",
      "Good 1 market clearing: False\n",
      "Good 2 market clearing: False\n",
      "---\n",
      "p1 = 0.7, p2 = 1.4\n",
      "Labor market clearing: False\n",
      "Good 1 market clearing: False\n",
      "Good 2 market clearing: False\n",
      "---\n",
      "p1 = 0.7, p2 = 1.6\n",
      "Labor market clearing: False\n",
      "Good 1 market clearing: False\n",
      "Good 2 market clearing: False\n",
      "---\n",
      "p1 = 0.7, p2 = 1.8\n",
      "Labor market clearing: False\n",
      "Good 1 market clearing: False\n",
      "Good 2 market clearing: False\n",
      "---\n",
      "p1 = 0.7, p2 = 2.0\n",
      "Labor market clearing: False\n",
      "Good 1 market clearing: False\n",
      "Good 2 market clearing: False\n",
      "---\n",
      "p1 = 0.9, p2 = 0.1\n",
      "Labor market clearing: False\n",
      "Good 1 market clearing: False\n",
      "Good 2 market clearing: False\n",
      "---\n",
      "p1 = 0.9, p2 = 0.3\n",
      "Labor market clearing: False\n",
      "Good 1 market clearing: False\n",
      "Good 2 market clearing: False\n",
      "---\n",
      "p1 = 0.9, p2 = 0.5\n",
      "Labor market clearing: False\n",
      "Good 1 market clearing: False\n",
      "Good 2 market clearing: False\n",
      "---\n",
      "p1 = 0.9, p2 = 0.7\n",
      "Labor market clearing: False\n",
      "Good 1 market clearing: False\n",
      "Good 2 market clearing: False\n",
      "---\n",
      "p1 = 0.9, p2 = 0.9\n",
      "Labor market clearing: False\n",
      "Good 1 market clearing: False\n",
      "Good 2 market clearing: False\n",
      "---\n",
      "p1 = 0.9, p2 = 1.2\n",
      "Labor market clearing: False\n",
      "Good 1 market clearing: False\n",
      "Good 2 market clearing: False\n",
      "---\n",
      "p1 = 0.9, p2 = 1.4\n",
      "Labor market clearing: False\n",
      "Good 1 market clearing: False\n",
      "Good 2 market clearing: False\n",
      "---\n",
      "p1 = 0.9, p2 = 1.6\n",
      "Labor market clearing: False\n",
      "Good 1 market clearing: False\n",
      "Good 2 market clearing: False\n",
      "---\n",
      "p1 = 0.9, p2 = 1.8\n",
      "Labor market clearing: False\n",
      "Good 1 market clearing: False\n",
      "Good 2 market clearing: False\n",
      "---\n",
      "p1 = 0.9, p2 = 2.0\n",
      "Labor market clearing: False\n",
      "Good 1 market clearing: False\n",
      "Good 2 market clearing: False\n",
      "---\n",
      "p1 = 1.2, p2 = 0.1\n",
      "Labor market clearing: False\n",
      "Good 1 market clearing: False\n",
      "Good 2 market clearing: False\n",
      "---\n",
      "p1 = 1.2, p2 = 0.3\n",
      "Labor market clearing: False\n",
      "Good 1 market clearing: False\n",
      "Good 2 market clearing: False\n",
      "---\n",
      "p1 = 1.2, p2 = 0.5\n",
      "Labor market clearing: False\n",
      "Good 1 market clearing: False\n",
      "Good 2 market clearing: False\n",
      "---\n",
      "p1 = 1.2, p2 = 0.7\n",
      "Labor market clearing: False\n",
      "Good 1 market clearing: False\n",
      "Good 2 market clearing: False\n",
      "---\n",
      "p1 = 1.2, p2 = 0.9\n",
      "Labor market clearing: False\n",
      "Good 1 market clearing: False\n",
      "Good 2 market clearing: False\n",
      "---\n",
      "p1 = 1.2, p2 = 1.2\n",
      "Labor market clearing: False\n",
      "Good 1 market clearing: False\n",
      "Good 2 market clearing: False\n",
      "---\n",
      "p1 = 1.2, p2 = 1.4\n",
      "Labor market clearing: False\n",
      "Good 1 market clearing: False\n",
      "Good 2 market clearing: False\n",
      "---\n",
      "p1 = 1.2, p2 = 1.6\n",
      "Labor market clearing: False\n",
      "Good 1 market clearing: False\n",
      "Good 2 market clearing: False\n",
      "---\n",
      "p1 = 1.2, p2 = 1.8\n",
      "Labor market clearing: False\n",
      "Good 1 market clearing: False\n",
      "Good 2 market clearing: False\n",
      "---\n",
      "p1 = 1.2, p2 = 2.0\n",
      "Labor market clearing: False\n",
      "Good 1 market clearing: False\n",
      "Good 2 market clearing: False\n",
      "---\n",
      "p1 = 1.4, p2 = 0.1\n",
      "Labor market clearing: False\n",
      "Good 1 market clearing: False\n",
      "Good 2 market clearing: False\n",
      "---\n",
      "p1 = 1.4, p2 = 0.3\n",
      "Labor market clearing: False\n",
      "Good 1 market clearing: False\n",
      "Good 2 market clearing: False\n",
      "---\n",
      "p1 = 1.4, p2 = 0.5\n",
      "Labor market clearing: False\n",
      "Good 1 market clearing: False\n",
      "Good 2 market clearing: False\n",
      "---\n",
      "p1 = 1.4, p2 = 0.7\n",
      "Labor market clearing: False\n",
      "Good 1 market clearing: False\n",
      "Good 2 market clearing: False\n",
      "---\n",
      "p1 = 1.4, p2 = 0.9\n",
      "Labor market clearing: False\n",
      "Good 1 market clearing: False\n",
      "Good 2 market clearing: False\n",
      "---\n",
      "p1 = 1.4, p2 = 1.2\n",
      "Labor market clearing: False\n",
      "Good 1 market clearing: False\n",
      "Good 2 market clearing: False\n",
      "---\n",
      "p1 = 1.4, p2 = 1.4\n",
      "Labor market clearing: False\n",
      "Good 1 market clearing: False\n",
      "Good 2 market clearing: False\n",
      "---\n",
      "p1 = 1.4, p2 = 1.6\n",
      "Labor market clearing: False\n",
      "Good 1 market clearing: False\n",
      "Good 2 market clearing: False\n",
      "---\n",
      "p1 = 1.4, p2 = 1.8\n",
      "Labor market clearing: False\n",
      "Good 1 market clearing: False\n",
      "Good 2 market clearing: False\n",
      "---\n",
      "p1 = 1.4, p2 = 2.0\n",
      "Labor market clearing: False\n",
      "Good 1 market clearing: False\n",
      "Good 2 market clearing: False\n",
      "---\n",
      "p1 = 1.6, p2 = 0.1\n",
      "Labor market clearing: False\n",
      "Good 1 market clearing: False\n",
      "Good 2 market clearing: False\n",
      "---\n",
      "p1 = 1.6, p2 = 0.3\n",
      "Labor market clearing: False\n",
      "Good 1 market clearing: False\n",
      "Good 2 market clearing: False\n",
      "---\n",
      "p1 = 1.6, p2 = 0.5\n",
      "Labor market clearing: False\n",
      "Good 1 market clearing: False\n",
      "Good 2 market clearing: False\n",
      "---\n",
      "p1 = 1.6, p2 = 0.7\n",
      "Labor market clearing: False\n",
      "Good 1 market clearing: False\n",
      "Good 2 market clearing: False\n",
      "---\n",
      "p1 = 1.6, p2 = 0.9\n",
      "Labor market clearing: False\n",
      "Good 1 market clearing: False\n",
      "Good 2 market clearing: False\n",
      "---\n",
      "p1 = 1.6, p2 = 1.2\n",
      "Labor market clearing: False\n",
      "Good 1 market clearing: False\n",
      "Good 2 market clearing: False\n",
      "---\n",
      "p1 = 1.6, p2 = 1.4\n",
      "Labor market clearing: False\n",
      "Good 1 market clearing: False\n",
      "Good 2 market clearing: False\n",
      "---\n",
      "p1 = 1.6, p2 = 1.6\n",
      "Labor market clearing: False\n",
      "Good 1 market clearing: False\n",
      "Good 2 market clearing: False\n",
      "---\n",
      "p1 = 1.6, p2 = 1.8\n",
      "Labor market clearing: False\n",
      "Good 1 market clearing: False\n",
      "Good 2 market clearing: False\n",
      "---\n",
      "p1 = 1.6, p2 = 2.0\n",
      "Labor market clearing: False\n",
      "Good 1 market clearing: False\n",
      "Good 2 market clearing: False\n",
      "---\n",
      "p1 = 1.8, p2 = 0.1\n",
      "Labor market clearing: False\n",
      "Good 1 market clearing: False\n",
      "Good 2 market clearing: False\n",
      "---\n",
      "p1 = 1.8, p2 = 0.3\n",
      "Labor market clearing: False\n",
      "Good 1 market clearing: False\n",
      "Good 2 market clearing: False\n",
      "---\n",
      "p1 = 1.8, p2 = 0.5\n",
      "Labor market clearing: False\n",
      "Good 1 market clearing: False\n",
      "Good 2 market clearing: False\n",
      "---\n",
      "p1 = 1.8, p2 = 0.7\n",
      "Labor market clearing: False\n",
      "Good 1 market clearing: False\n",
      "Good 2 market clearing: False\n",
      "---\n",
      "p1 = 1.8, p2 = 0.9\n",
      "Labor market clearing: False\n",
      "Good 1 market clearing: False\n",
      "Good 2 market clearing: False\n",
      "---\n",
      "p1 = 1.8, p2 = 1.2\n",
      "Labor market clearing: False\n",
      "Good 1 market clearing: False\n",
      "Good 2 market clearing: False\n",
      "---\n",
      "p1 = 1.8, p2 = 1.4\n",
      "Labor market clearing: False\n",
      "Good 1 market clearing: False\n",
      "Good 2 market clearing: False\n",
      "---\n",
      "p1 = 1.8, p2 = 1.6\n",
      "Labor market clearing: False\n",
      "Good 1 market clearing: False\n",
      "Good 2 market clearing: False\n",
      "---\n",
      "p1 = 1.8, p2 = 1.8\n",
      "Labor market clearing: False\n",
      "Good 1 market clearing: False\n",
      "Good 2 market clearing: False\n",
      "---\n",
      "p1 = 1.8, p2 = 2.0\n",
      "Labor market clearing: False\n",
      "Good 1 market clearing: False\n",
      "Good 2 market clearing: False\n",
      "---\n",
      "p1 = 2.0, p2 = 0.1\n",
      "Labor market clearing: False\n",
      "Good 1 market clearing: False\n",
      "Good 2 market clearing: False\n",
      "---\n",
      "p1 = 2.0, p2 = 0.3\n",
      "Labor market clearing: False\n",
      "Good 1 market clearing: False\n",
      "Good 2 market clearing: False\n",
      "---\n",
      "p1 = 2.0, p2 = 0.5\n",
      "Labor market clearing: False\n",
      "Good 1 market clearing: False\n",
      "Good 2 market clearing: False\n",
      "---\n",
      "p1 = 2.0, p2 = 0.7\n",
      "Labor market clearing: False\n",
      "Good 1 market clearing: False\n",
      "Good 2 market clearing: False\n",
      "---\n",
      "p1 = 2.0, p2 = 0.9\n",
      "Labor market clearing: False\n",
      "Good 1 market clearing: False\n",
      "Good 2 market clearing: False\n",
      "---\n",
      "p1 = 2.0, p2 = 1.2\n",
      "Labor market clearing: False\n",
      "Good 1 market clearing: False\n",
      "Good 2 market clearing: False\n",
      "---\n",
      "p1 = 2.0, p2 = 1.4\n",
      "Labor market clearing: False\n",
      "Good 1 market clearing: False\n",
      "Good 2 market clearing: False\n",
      "---\n",
      "p1 = 2.0, p2 = 1.6\n",
      "Labor market clearing: False\n",
      "Good 1 market clearing: False\n",
      "Good 2 market clearing: False\n",
      "---\n",
      "p1 = 2.0, p2 = 1.8\n",
      "Labor market clearing: False\n",
      "Good 1 market clearing: False\n",
      "Good 2 market clearing: False\n",
      "---\n",
      "p1 = 2.0, p2 = 2.0\n",
      "Labor market clearing: False\n",
      "Good 1 market clearing: False\n",
      "Good 2 market clearing: False\n",
      "---\n"
     ]
    }
   ],
   "source": [
    "# Grid for p1 and p2\n",
    "p1_grid = np.linspace(0.1, 2.0, 10)\n",
    "p2_grid = np.linspace(0.1, 2.0, 10)\n",
    "\n",
    "# Check market clearing conditions\n",
    "for p1 in p1_grid:\n",
    "    for p2 in p2_grid:\n",
    "        # Optimal firm behavior\n",
    "        l1_star = optimal_labor(w, p1, par.A, par.gamma)\n",
    "        y1_star = optimal_output(l1_star, par.A, par.gamma)\n",
    "        pi1_star = optimal_profit(w, p1, par.A, par.gamma)\n",
    "        \n",
    "        l2_star = optimal_labor(w, p2, par.A, par.gamma)\n",
    "        y2_star = optimal_output(l2_star, par.A, par.gamma)\n",
    "        pi2_star = optimal_profit(w, p2, par.A, par.gamma)\n",
    "\n",
    "        # Optimal consumer behavior\n",
    "        l_consumer = optimal_labor_consumer(w, par.T, pi1_star, pi2_star, p1, p2, par.tau, par.alpha, par.nu, par.epsilon)\n",
    "        c1_star = consumption_1(w, par.T, pi1_star, pi2_star, p1, p2, par.tau, par.alpha, l_consumer)\n",
    "        c2_star = consumption_2(w, par.T, pi1_star, pi2_star, p1, p2, par.tau, par.alpha, l_consumer)\n",
    "\n",
    "        # Market clearing conditions\n",
    "        labor_market_clearing = np.isclose(l_consumer, l1_star + l2_star)\n",
    "        good1_market_clearing = np.isclose(c1_star, y1_star)\n",
    "        good2_market_clearing = np.isclose(c2_star, y2_star)\n",
    "\n",
    "        print(f'p1 = {p1:.1f}, p2 = {p2:.1f}')\n",
    "        print(f'Labor market clearing: {labor_market_clearing}')\n",
    "        print(f'Good 1 market clearing: {good1_market_clearing}')\n",
    "        print(f'Good 2 market clearing: {good2_market_clearing}')\n",
    "        print('---')\n"
   ]
  },
  {
   "cell_type": "markdown",
   "metadata": {},
   "source": [
    "**Interpretation:** As seen above, none of the markets clear, implying that we need to leverage another method to find the equilibrium prices. This is done below in question 2. "
   ]
  },
  {
   "cell_type": "markdown",
   "metadata": {},
   "source": [
    "**Question 2:** Find the equilibrium prices $p_1$ and $p_2$.<br>\n",
    "*Hint: you can use Walras' law to only check 2 of the market clearings*"
   ]
  },
  {
   "cell_type": "markdown",
   "metadata": {},
   "source": [
    "`Step 1:` We define the market clearing functions"
   ]
  },
  {
   "cell_type": "code",
   "execution_count": 4,
   "metadata": {},
   "outputs": [],
   "source": [
    "# Define the market clearing functions\n",
    "def good1_market_clearing(p, w, par):\n",
    "    p1, p2 = p\n",
    "    l1_star = optimal_labor(w, p1, par.A, par.gamma)\n",
    "    y1_star = optimal_output(l1_star, par.A, par.gamma)\n",
    "    pi1_star = optimal_profit(w, p1, par.A, par.gamma)\n",
    "    l2_star = optimal_labor(w, p2, par.A, par.gamma)\n",
    "    y2_star = optimal_output(l2_star, par.A, par.gamma)\n",
    "    pi2_star = optimal_profit(w, p2, par.A, par.gamma)\n",
    "    l_consumer = optimal_labor_consumer(w, par.T, pi1_star, pi2_star, p1, p2, par.tau, par.alpha, par.nu, par.epsilon)\n",
    "    c1_star = consumption_1(w, par.T, pi1_star, pi2_star, p1, p2, par.tau, par.alpha, l_consumer)\n",
    "    return c1_star - y1_star\n",
    "\n",
    "def good2_market_clearing(p, w, par):\n",
    "    p1, p2 = p\n",
    "    l1_star = optimal_labor(w, p1, par.A, par.gamma)\n",
    "    y1_star = optimal_output(l1_star, par.A, par.gamma)\n",
    "    pi1_star = optimal_profit(w, p1, par.A, par.gamma)\n",
    "    l2_star = optimal_labor(w, p2, par.A, par.gamma)\n",
    "    y2_star = optimal_output(l2_star, par.A, par.gamma)\n",
    "    pi2_star = optimal_profit(w, p2, par.A, par.gamma)\n",
    "    l_consumer = optimal_labor_consumer(w, par.T, pi1_star, pi2_star, p1, p2, par.tau, par.alpha, par.nu, par.epsilon)\n",
    "    c2_star = consumption_2(w, par.T, pi1_star, pi2_star, p1, p2, par.tau, par.alpha, l_consumer)\n",
    "    return c2_star - y2_star\n"
   ]
  },
  {
   "cell_type": "markdown",
   "metadata": {},
   "source": [
    "`Step 2:` Solve for the Equilibrium Prices: We will use the root function from scipy.optimize to solve for $p_1$ and $p_2$  that satisfy the market clearing conditions."
   ]
  },
  {
   "cell_type": "code",
   "execution_count": 5,
   "metadata": {},
   "outputs": [
    {
     "name": "stdout",
     "output_type": "stream",
     "text": [
      "Equilibrium prices: p1 = 0.98, p2 = 1.49\n"
     ]
    }
   ],
   "source": [
    "# Combined market clearing function\n",
    "def market_clearing_conditions(p, w, par):\n",
    "    return [good1_market_clearing(p, w, par), good2_market_clearing(p, w, par)]\n",
    "\n",
    "# Initial guess for prices\n",
    "initial_guess = [1.0, 1.0]\n",
    "\n",
    "# Solve for equilibrium prices\n",
    "equilibrium = root(market_clearing_conditions, initial_guess, args=(w, par))\n",
    "\n",
    "# Extract equilibrium prices\n",
    "p1_eq, p2_eq = equilibrium.x\n",
    "print(f'Equilibrium prices: p1 = {p1_eq:.2f}, p2 = {p2_eq:.2f}')\n"
   ]
  },
  {
   "cell_type": "markdown",
   "metadata": {},
   "source": [
    "**Interpretation:** Given Walras' law, we know that the other markets clear when we have cleared 2 markets. Moreover, the equilibrium `price for Good 1 is 0.98` and the `price for Good 2 is 1.49`"
   ]
  },
  {
   "cell_type": "markdown",
   "metadata": {},
   "source": [
    "Assume the government care about the social welfare function:\n",
    "\n",
    "$$\n",
    "SWF = U - \\kappa y_2^*\n",
    "$$"
   ]
  },
  {
   "cell_type": "markdown",
   "metadata": {},
   "source": [
    "Here $\\kappa$ measures the social cost of carbon emitted by the production of $y_2$ in equilibrium."
   ]
  },
  {
   "cell_type": "markdown",
   "metadata": {},
   "source": [
    "**Question 3:** What values of $\\tau$ and (implied) $T$ should the government choose to maximize $SWF$?"
   ]
  },
  {
   "cell_type": "code",
   "execution_count": 6,
   "metadata": {},
   "outputs": [
    {
     "name": "stdout",
     "output_type": "stream",
     "text": [
      "Optimal tau: 0.0000\n",
      "Implied T: 0.0000\n"
     ]
    }
   ],
   "source": [
    "# Optimize tau to maximize the social welfare function\n",
    "result = minimize_scalar(objective, bounds=(0, 1), method='bounded', args=(w, p1_eq, p2_eq, par.alpha, par.nu, par.epsilon, par.kappa))\n",
    "tau_opt = result.x\n",
    "\n",
    "# Calculate the implied T with the optimal tau\n",
    "pi1_star = optimal_profit(w, p1_eq, par.A, par.gamma)\n",
    "pi2_star = optimal_profit(w, p2_eq, par.A, par.gamma)\n",
    "l_opt = optimal_labor_consumer(w, 0, pi1_star, pi2_star, p1_eq, p2_eq, tau_opt, par.alpha, par.nu, par.epsilon)\n",
    "c2_star = consumption_2(w, 0, pi1_star, pi2_star, p1_eq, p2_eq, tau_opt, par.alpha, l_opt)\n",
    "T_opt = tau_opt * c2_star\n",
    "\n",
    "print(f'Optimal tau: {tau_opt:.4f}')\n",
    "print(f'Implied T: {T_opt:.4f}')\n"
   ]
  },
  {
   "cell_type": "markdown",
   "metadata": {},
   "source": [
    "**Interpretation:** The optimization found that setting the tax rate\n",
    "$\\tau$ to zero maximizes social welfare, implying no redistribution is optimal. This result suggests that the costs of taxation (represented by $\\kappa$) outweigh potential benefits. Consequently, both \n",
    "$\\tau$ and the implied transfer $T$ are zero, reflecting a preference for free-market outcomes without government intervention in this model. "
   ]
  },
  {
   "cell_type": "markdown",
   "metadata": {},
   "source": [
    "## 2. <a id='toc2_'></a>[Problem 2: Career choice model](#toc0_)"
   ]
  },
  {
   "cell_type": "markdown",
   "metadata": {},
   "source": [
    "Consider a graduate $i$ making a choice between entering $J$ different career tracks. <br>\n",
    "Entering career $j$ yields utility $u^k_{ij}$. This value is unknown to the graduate ex ante, but will ex post be: <br>\n",
    "$$\n",
    "    u_{i,j}^k = v_{j} + \\epsilon_{i,j}^k\n",
    "$$\n",
    "\n",
    "They know that $\\epsilon^k_{i,j}\\sim \\mathcal{N}(0,\\sigma^2)$, but they do not observe $\\epsilon^k_{i,j}$ before making their career choice. <br>"
   ]
  },
  {
   "cell_type": "markdown",
   "metadata": {},
   "source": [
    "Consider the concrete case of $J=3$ with:\n",
    "$$\n",
    "\\begin{align*}\n",
    "    v_{1} &= 1 \\\\\n",
    "    v_{2} &= 2 \\\\\n",
    "    v_{3} &= 3\n",
    "\\end{align*}\n",
    "$$"
   ]
  },
  {
   "cell_type": "markdown",
   "metadata": {},
   "source": [
    "If the graduates know the values of $v_j$ and the distribution of $\\epsilon_{i,j}^k$, they can calculate the expected utility of each career track using simulation: <br>\n",
    "$$\n",
    "    \\mathbb{E}\\left[ u^k_{i,j}\\vert v_j \\right] \\approx v_j + \\frac{1}{K}\\sum_{k=1}^K \\epsilon_{i,j}^k\n",
    "$$"
   ]
  },
  {
   "cell_type": "code",
   "execution_count": 7,
   "metadata": {},
   "outputs": [],
   "source": [
    "par = SimpleNamespace()\n",
    "par.J = 3\n",
    "par.N = 10\n",
    "par.K = 10000\n",
    "\n",
    "par.F = np.arange(1,par.N+1)\n",
    "par.sigma = 2\n",
    "\n",
    "par.v = np.array([1,2,3])\n",
    "par.c = 1\n"
   ]
  },
  {
   "cell_type": "markdown",
   "metadata": {},
   "source": [
    "**Question 1:** Simulate and calculate expected utility and the average realised utility for $K=10000$ draws, for each career choice $j$.\n"
   ]
  },
  {
   "cell_type": "markdown",
   "metadata": {},
   "source": [
    "- We simulate the utility of different career choices with variability introduced by random noise. We hereafter import NumPy for numerical operations, then define utility values for three careers, set the number of simulations to 10,000, and specify a noise standard deviation of 2. We generate random noise for each career and simulation, add this noise to the utility values, and calculate the resulting utilities. Finally, we compute and print the expected and average realized utilities across all simulations."
   ]
  },
  {
   "cell_type": "code",
   "execution_count": 8,
   "metadata": {},
   "outputs": [
    {
     "name": "stdout",
     "output_type": "stream",
     "text": [
      "The expected utility is: [0.99827458 1.98145953 3.00223392]\n",
      "The average realized utility is: [0.99827458 1.98145953 3.00223392]\n"
     ]
    }
   ],
   "source": [
    "import numpy as np\n",
    "import matplotlib.pyplot as plt\n",
    "from types import SimpleNamespace\n",
    "%run career_choice_simulation.py\n",
    "%run career_choice_simulation.py\n",
    "\n",
    "# Constants\n",
    "v = [1, 2, 3]  # Values for each career\n",
    "K = 10000  # Number of simulations\n",
    "sigma = 2  # Standard deviation of the noise\n",
    "\n",
    "# Generate random noise for each career and simulation\n",
    "epsilon = np.random.normal(0, sigma, (K, len(v)))\n",
    "\n",
    "# Calculate utility for each simulation and career\n",
    "utilities = v + epsilon\n",
    "\n",
    "# Calculate expected utility (mean across simulations) and average realized utility\n",
    "expected_utility = np.mean(utilities, axis=0)\n",
    "average_realized_utility = np.mean(utilities, axis=0)\n",
    "\n",
    "\n",
    "print(f'The expected utility is: {expected_utility}')\n",
    "\n",
    "print(f'The average realized utility is: {average_realized_utility}')"
   ]
  },
  {
   "cell_type": "markdown",
   "metadata": {},
   "source": [
    "Now consider a new scenario: Imagine that the graduate does not know $v_j$. The *only* prior information they have on the value of each job, comes from their $F_{i}$ friends that work in each career $j$. After talking with them, they know the average utility of their friends (which includes their friends' noise term), giving them the prior expecation: <br>\n",
    "$$\n",
    "\\tilde{u}^k_{i,j}\\left( F_{i}\\right) = \\frac{1}{F_{i}}\\sum_{f=1}^{F_{i}} \\left(v_{j} + \\epsilon^k_{f,j}\\right), \\; \\epsilon^k_{f,j}\\sim \\mathcal{N}(0,\\sigma^2)\n",
    "$$\n",
    "For ease of notation consider that each graduate have $F_{i}=i$ friends in each career. <br>"
   ]
  },
  {
   "cell_type": "markdown",
   "metadata": {},
   "source": [
    "For $K$ times do the following: <br>\n",
    "1. For each person $i$ draw $J\\cdot F_i$ values of $\\epsilon_{f,j}^{k}$, and calculate the prior expected utility of each career track, $\\tilde{u}^k_{i,j}\\left( F_{i}\\right)$. <br>\n",
    "Also draw their own $J$ noise terms, $\\epsilon_{i,j}^k$\n",
    "1. Each person $i$ chooses the career track with the highest expected utility: $$j_i^{k*}= \\arg\\max_{j\\in{1,2\\dots,J}}\\left\\{ \\tilde{u}^k_{i,j}\\left( F_{i}\\right)\\right\\} $$\n",
    "1. Store the chosen careers: $j_i^{k*}$, the prior expectation of the value of their chosen career: $\\tilde{u}^k_{i,j=j_i^{k*}}\\left( F_{i}\\right)$, and the realized value of their chosen career track: $u^k_{i,j=j_i^{k*}}=v_{j=j_i^{k*}}+\\epsilon_{i,j=j_i^{k*}}^k$."
   ]
  },
  {
   "cell_type": "markdown",
   "metadata": {},
   "source": [
    "Chosen values will be: <br>\n",
    "$i\\in\\left\\{1,2\\dots,N\\right\\}, N=10$ <br>\n",
    "$F_i = i$<br>\n",
    "So there are 10 graduates. The first has 1 friend in each career, the second has 2 friends, ... the tenth has 10 friends."
   ]
  },
  {
   "cell_type": "markdown",
   "metadata": {},
   "source": [
    "**Question 2:** Simulate and visualize: For each type of graduate, $i$, the share of graduates choosing each career, the average subjective expected utility of the graduates, and the average ex post realized utility given their choice. <br>\n",
    "That is, calculate and visualize: <br>\n",
    "$$\n",
    "\\begin{align*}\n",
    "    \\frac{1}{K} \\sum_{k=1}^{K} \\mathbb{I}\\left\\{ j=j_i^{k*} \\right\\}  \\;\\forall j\\in\\left\\{1,2,\\dots,J\\right\\}\n",
    "\\end{align*}\n",
    "$$\n",
    "$$\n",
    "\\begin{align*}\n",
    "    \\frac{1}{K} \\sum_{k=1}^{K} \\tilde{u}^k_{ij=j_i^{k*}}\\left( F_{i}\\right)\n",
    "\\end{align*}\n",
    "$$\n",
    "And \n",
    "$$\n",
    "\\begin{align*}\n",
    "    \\frac{1}{K} \\sum_{k=1}^{K} u^k_{ij=j_i^{k*}} \n",
    "\\end{align*}\n",
    "$$\n",
    "For each graduate $i$."
   ]
  },
  {
   "cell_type": "markdown",
   "metadata": {},
   "source": [
    "**Interpretation**: The average realized utilities are the same as the expected utilities since the noise \n",
    "$\\epsilon$ averages out to zero across many draws. Each value aligns closely with the corresponding constant \n",
    "$v_j$ for each career due to the law of large numbers, showing that the noise contributes little to the long-term average."
   ]
  },
  {
   "cell_type": "markdown",
   "metadata": {},
   "source": [
    "- This code simulates career choices and utilities for a group of graduates, introducing variability with random noise. We begin by defining the number of careers (J = 3), the number of graduates (N = 10), the number of simulations (K = 10,000), the noise standard deviation (sigma = 2), and the intrinsic utilities for each career (v = 1, 2, 3). We then create arrays to store the results of career choices, expected utilities, and realized utilities for each graduate.\n",
    "\n",
    "- In the simulation loop, for each graduate, we determine the number of friends, Fi, and generate utility values for each career by adding noise to the intrinsic utilities. We identify the career chosen most frequently across simulations, record the share of graduates choosing each career, calculate the expected utility for each graduate, and compute the realized utility based on the chosen careers\n",
    "\n",
    "- Finally, we plot the share of each career choice by graduate, the average expected utility for each graduate, and the average realized utility for each graduate. This provides a detailed simulation of career choice dynamics and visualizes the results to highlight the patterns in expected and realized utilities."
   ]
  },
  {
   "cell_type": "code",
   "execution_count": 9,
   "metadata": {},
   "outputs": [
    {
     "data": {
      "image/png": "[encoded data removed]",
      "text/plain": [
       "<Figure size 1000x800 with 1 Axes>"
      ]
     },
     "metadata": {},
     "output_type": "display_data"
    },
    {
     "data": {
      "image/png": "[encoded data removed]",
      "text/plain": [
       "<Figure size 1000x600 with 1 Axes>"
      ]
     },
     "metadata": {},
     "output_type": "display_data"
    },
    {
     "data": {
      "image/png": "[encoded data removed]",
      "text/plain": [
       "<Figure size 1000x600 with 1 Axes>"
      ]
     },
     "metadata": {},
     "output_type": "display_data"
    }
   ],
   "source": [
    "from career_simulation import CareerSimulation\n",
    "\n",
    "# Create an instance of the CareerSimulation class\n",
    "sim = CareerSimulation()\n",
    "\n",
    "# Run the simulation\n",
    "sim.simulate()\n",
    "\n",
    "# Plotting the results\n",
    "sim.plot_results()"
   ]
  },
  {
   "cell_type": "markdown",
   "metadata": {},
   "source": [
    "**Interpretation**: Career 3 (green line) is the most popular, with its share increasing as the number of friends increases. Conversely, Career 1 (blue line) and Career 2 (orange line) show a decreasing trend in their shares as the number of friends grows, with Career 1 being the least chosen overall. This indicates a strong preference for Career 3 among graduates with more friends.\n",
    "\n",
    "The second graph shows a decreasing trend in the average subjective expected utility as the number of friends increases, an increasing trend in average ex-post realized utility with the number of friends, peaking around 8 friends before slightly decreasing."
   ]
  },
  {
   "cell_type": "markdown",
   "metadata": {},
   "source": [
    "After a year of working in their career, the graduates learn $u^k_{ij}$ for their chosen job $j_i^{k*}$ perfectly. <br>\n",
    "The can switch to one of the two remaining careers, for which they have the same prior as before, but it will now include a switching cost of $c$ which is known.\n",
    "Their new priors can be written as: \n",
    "$$\n",
    "\\tilde{u}^{k,2}_{ij}\\left( F_{i}\\right) = \\begin{cases}\n",
    "            \\tilde{u}^k_{ij}\\left( F_{i}\\right)-c & \\text{if } j \\neq j_i^{k*} \\\\\n",
    "            u_{ij=j_i^{k*}} & \\text{if } j = j_i^{k*}\n",
    "        \\end{cases}\n",
    "$$"
   ]
  },
  {
   "cell_type": "markdown",
   "metadata": {},
   "source": [
    "We will set $c=1$."
   ]
  },
  {
   "cell_type": "markdown",
   "metadata": {},
   "source": [
    "Their realized utility will be: <br>\n",
    "$$\n",
    "u^{k,2}_{ij}= \\begin{cases}\n",
    "            u_{ij}^k -c & \\text{if } j \\neq j_i^{k*} \\\\\n",
    "            u_{ij=j_i^{k*}} & \\text{if } j = j_i^{k*}\n",
    "        \\end{cases}\n",
    "$$"
   ]
  },
  {
   "cell_type": "markdown",
   "metadata": {},
   "source": [
    "**Question 3:** Following the same approach as in question 2, find the new optimal career choice for each $i$, $k$. Then for each $i$, calculate the average subjective expected utility from their new optimal career choice, and the ex post realized utility of that career. Also, for each $i$, calculate the share of graduates that chooses to switch careers, conditional on which career they chose in the first year. <br>"
   ]
  },
  {
   "cell_type": "code",
   "execution_count": 11,
   "metadata": {},
   "outputs": [
    {
     "ename": "AttributeError",
     "evalue": "'CareerChoiceSimulation' object has no attribute 'run_simulation'",
     "output_type": "error",
     "traceback": [
      "\u001b[0;31m---------------------------------------------------------------------------\u001b[0m",
      "\u001b[0;31mAttributeError\u001b[0m                            Traceback (most recent call last)",
      "Cell \u001b[0;32mIn[11], line 7\u001b[0m\n\u001b[1;32m      4\u001b[0m sim \u001b[38;5;241m=\u001b[39m CareerChoiceSimulation()\n\u001b[1;32m      6\u001b[0m \u001b[38;5;66;03m# Run the first year simulation\u001b[39;00m\n\u001b[0;32m----> 7\u001b[0m sim\u001b[38;5;241m.\u001b[39mrun_simulation()\n\u001b[1;32m      9\u001b[0m \u001b[38;5;66;03m# Run the second year simulation\u001b[39;00m\n\u001b[1;32m     10\u001b[0m sim\u001b[38;5;241m.\u001b[39mrun_second_year_simulation()\n",
      "\u001b[0;31mAttributeError\u001b[0m: 'CareerChoiceSimulation' object has no attribute 'run_simulation'"
     ]
    }
   ],
   "source": [
    "\n",
    "from career_choice_simulation import CareerChoiceSimulation\n",
    "\n",
    "# Create an instance of the CareerSimulation class\n",
    "sim = CareerChoiceSimulation()\n",
    "\n",
    "# Run the first year simulation\n",
    "sim.run_simulation()\n",
    "\n",
    "# Run the second year simulation\n",
    "sim.run_second_year_simulation()\n",
    "\n",
    "# Plotting the results\n",
    "sim.plot_results()\n",
    "\n",
    "\n"
   ]
  },
  {
   "cell_type": "markdown",
   "metadata": {},
   "source": [
    "**Interpretation**: The first three grpahs shows the same overall trend as in question 1. The last graph shows a general decline in the average switch share as the graduate number increases."
   ]
  },
  {
   "cell_type": "code",
   "execution_count": null,
   "metadata": {},
   "outputs": [
    {
     "ename": "NameError",
     "evalue": "name 'par' is not defined",
     "output_type": "error",
     "traceback": [
      "\u001b[0;31m---------------------------------------------------------------------------\u001b[0m",
      "\u001b[0;31mNameError\u001b[0m                                 Traceback (most recent call last)",
      "Cell \u001b[0;32mIn[4], line 2\u001b[0m\n\u001b[1;32m      1\u001b[0m \u001b[38;5;66;03m# Create a figure with subplots for each graduate\u001b[39;00m\n\u001b[0;32m----> 2\u001b[0m fig, axs \u001b[38;5;241m=\u001b[39m plt\u001b[38;5;241m.\u001b[39msubplots(nrows\u001b[38;5;241m=\u001b[39mpar\u001b[38;5;241m.\u001b[39mN, figsize\u001b[38;5;241m=\u001b[39m(\u001b[38;5;241m10\u001b[39m, \u001b[38;5;241m2\u001b[39m \u001b[38;5;241m*\u001b[39m par\u001b[38;5;241m.\u001b[39mN), constrained_layout\u001b[38;5;241m=\u001b[39m\u001b[38;5;28;01mTrue\u001b[39;00m)\n\u001b[1;32m      4\u001b[0m \u001b[38;5;66;03m# Loop through each graduate to calculate and plot their conditional switching shares\u001b[39;00m\n\u001b[1;32m      5\u001b[0m \u001b[38;5;28;01mfor\u001b[39;00m i \u001b[38;5;129;01min\u001b[39;00m \u001b[38;5;28mrange\u001b[39m(par\u001b[38;5;241m.\u001b[39mN):\n",
      "\u001b[0;31mNameError\u001b[0m: name 'par' is not defined"
     ]
    }
   ],
   "source": [
    "\n",
    "# Create a figure with subplots for each graduate\n",
    "fig, axs = plt.subplots(nrows=par.N, figsize=(10, 2 * par.N), constrained_layout=True)\n",
    "\n",
    "# Loop through each graduate to calculate and plot their conditional switching shares\n",
    "for i in range(par.N):\n",
    "    switch_shares_conditional_i = np.zeros((par.J, par.J))  # Initialize the matrix for this graduate\n",
    "    total_initial_i = np.zeros(par.J)  # Total grads who chose each career initially\n",
    "\n",
    "    # Count the initial choices and switches for graduate i\n",
    "    for j_initial in range(par.J):\n",
    "        initial_mask_i = choices[i, j_initial, :] == 1  # Initial choices of graduate i for career j_initial\n",
    "        total_initial_i[j_initial] = initial_mask_i.sum()  # Total number of times i chose j_initial\n",
    "        for j_second in range(par.J):\n",
    "            switches_to_second_i = (second_year_choices[i, j_second, :] == 1) & initial_mask_i\n",
    "            switch_shares_conditional_i[j_initial, j_second] = switches_to_second_i.sum()  # Count switches\n",
    "\n",
    "    # Normalize the counts to get probabilities\n",
    "    for j_initial in range(par.J):\n",
    "        if total_initial_i[j_initial] > 0:\n",
    "            switch_shares_conditional_i[j_initial, :] /= total_initial_i[j_initial]\n",
    "\n",
    "    # Plot for this graduate\n",
    "    ax = axs[i] if par.N > 1 else axs\n",
    "    im = ax.imshow(switch_shares_conditional_i, cmap='viridis', interpolation='none', aspect='auto')\n",
    "    ax.set_xticks(np.arange(par.J))\n",
    "    ax.set_yticks(np.arange(par.J))\n",
    "    ax.set_xticklabels([f\"Career {j+1}\" for j in range(par.J)])\n",
    "    ax.set_yticklabels([f\"Career {j+1}\" for j in range(par.J)])\n",
    "    plt.setp(ax.get_xticklabels(), rotation=45, ha=\"right\", rotation_mode=\"anchor\")\n",
    "\n",
    "    # Add text annotations\n",
    "    for j_initial in range(par.J):\n",
    "        for j_second in range(par.J):\n",
    "            ax.text(j_second, j_initial, f\"{switch_shares_conditional_i[j_initial, j_second]:.2f}\",\n",
    "                    ha=\"center\", va=\"center\", color=\"w\")\n",
    "\n",
    "    ax.set_title(f\"Graduate {i+1}: Conditional Share of Switching Careers\")\n",
    "    fig.colorbar(im, ax=ax)\n",
    "\n",
    "plt.show()"
   ]
  },
  {
   "cell_type": "markdown",
   "metadata": {},
   "source": [
    "OBS: First year choice in on the x-axis, and second year choices in the y-axis"
   ]
  },
  {
   "cell_type": "markdown",
   "metadata": {},
   "source": [
    "**Interpretation**: Retention Tendency: All careers show a tendency for graduates to stay rather than switch, with Career 3 having the highest retention rate. This suggests that graduates might be highly satisfied with Career 3 or find it more advantageous compared to the others.\n",
    "\n",
    "Switching Dynamics: The switching behavior indicates that Careers 2 and 3 are more attractive alternatives than Career 1, given the relatively higher percentages of switches to these careers from Career 1.\n"
   ]
  },
  {
   "cell_type": "markdown",
   "metadata": {},
   "source": [
    "## 3. <a id='toc3_'></a>[Problem 3: Barycentric interpolation](#toc0_)"
   ]
  },
  {
   "cell_type": "markdown",
   "metadata": {},
   "source": [
    "**Problem:** We have a set of random points in the unit square,\n",
    "\n",
    "$$\n",
    "\\mathcal{X} = \\{(x_1,x_2)\\,|\\,x_1\\sim\\mathcal{U}(0,1),x_2\\sim\\mathcal{U}(0,1)\\}.\n",
    "$$\n",
    "\n",
    "For these points, we know the value of some function $f(x_1,x_2)$,\n",
    "\n",
    "$$\n",
    "\\mathcal{F} = \\{f(x_1,x_2) \\,|\\, (x_1,x_2) \\in \\mathcal{X}\\}.\n",
    "$$\n",
    "\n",
    "Now we want to approximate the value $f(y_1,y_2)$ for some  $y=(y_1,y_2)$, where $y_1\\sim\\mathcal{U}(0,1)$ and $y_2\\sim\\mathcal{U}(0,1)$.\n",
    "\n",
    "**Building block I**\n",
    "\n",
    "For an arbitrary triangle $ABC$ and a point $y$, define the so-called barycentric coordinates as:\n",
    "\n",
    "$$\n",
    "\\begin{align*}\n",
    "  r^{ABC}_1 &= \\frac{(B_2-C_2)(y_1-C_1) + (C_1-B_1)(y_2-C_2)}{(B_2-C_2)(A_1-C_1) + (C_1-B_1)(A_2-C_2)} \\\\\n",
    "  r^{ABC}_2 &= \\frac{(C_2-A_2)(y_1-C_1) + (A_1-C_1)(y_2-C_2)}{(B_2-C_2)(A_1-C_1) + (C_1-B_1)(A_2-C_2)} \\\\\n",
    "  r^{ABC}_3 &= 1 - r_1 - r_2.\n",
    "\\end{align*}\n",
    "$$\n",
    "\n",
    "If $r^{ABC}_1 \\in [0,1]$, $r^{ABC}_2 \\in [0,1]$, and $r^{ABC}_3 \\in [0,1]$, then the point is inside the triangle.\n",
    "\n",
    "We always have $y = r^{ABC}_1 A + r^{ABC}_2 B + r^{ABC}_3 C$.\n",
    "\n",
    "**Building block II**\n",
    "\n",
    "Define the following points:\n",
    "\n",
    "$$\n",
    "\\begin{align*}\n",
    "A&=\\arg\\min_{(x_{1},x_{2})\\in\\mathcal{X}}\\sqrt{\\left(x_{1}-y_{1}\\right)^{2}+\\left(x_{2}-y_{2}\\right)^{2}}\\text{ s.t. }x_{1}>y_{1}\\text{ and }x_{2}>y_{2}\\\\\n",
    "B&=\\arg\\min_{(x_{1},x_{2})\\in\\mathcal{X}}\\sqrt{\\left(x_{1}-y_{1}\\right)^{2}+\\left(x_{2}-y_{2}\\right)^{2}}\\text{ s.t. }x_{1}>y_{1}\\text{ and }x_{2}<y_{2}\\\\\n",
    "C&=\\arg\\min_{(x_{1},x_{2})\\in\\mathcal{X}}\\sqrt{\\left(x_{1}-y_{1}\\right)^{2}+\\left(x_{2}-y_{2}\\right)^{2}}\\text{ s.t. }x_{1}<y_{1}\\text{ and }x_{2}<y_{2}\\\\\n",
    "D&=\\arg\\min_{(x_{1},x_{2})\\in\\mathcal{X}}\\sqrt{\\left(x_{1}-y_{1}\\right)^{2}+\\left(x_{2}-y_{2}\\right)^{2}}\\text{ s.t. }x_{1}<y_{1}\\text{ and }x_{2}>y_{2}.\n",
    "\\end{align*}\n",
    "$$\n",
    "\n",
    "**Algorithm:**\n",
    "\n",
    "1. Compute $A$, $B$, $C$, and $D$. If not possible return `NaN`.\n",
    "1. If $y$ is inside the triangle $ABC$ return $r^{ABC}_1 f(A) + r^{ABC}_2 f(B) + r^{ABC}_3 f(C)$.\n",
    "1. If $y$ is inside the triangle $CDA$ return $r^{CDA}_1 f(C) + r^{CDA}_2 f(D) + r^{CDA}_3 f(A)$.\n",
    "1. Return `NaN`.\n",
    "\n"
   ]
  },
  {
   "cell_type": "markdown",
   "metadata": {},
   "source": [
    "**Sample:**"
   ]
  },
  {
   "cell_type": "code",
   "execution_count": null,
   "metadata": {},
   "outputs": [],
   "source": [
    "rng = np.random.default_rng(2024)\n",
    "\n",
    "X = rng.uniform(size=(50,2))\n",
    "y = rng.uniform(size=(2,))\n"
   ]
  },
  {
   "cell_type": "markdown",
   "metadata": {},
   "source": [
    "**Questions 1:** Find $A$, $B$, $C$ and $D$. Illustrate these together with $X$, $y$ and the triangles $ABC$ and $CDA$."
   ]
  },
  {
   "cell_type": "code",
   "execution_count": null,
   "metadata": {},
   "outputs": [],
   "source": [
    "# write your answer here"
   ]
  },
  {
   "cell_type": "markdown",
   "metadata": {},
   "source": [
    "**Question 2:** Compute the barycentric coordinates of the point $y$ with respect to the triangles $ABC$ and $CDA$. Which triangle is $y$ located inside?"
   ]
  },
  {
   "cell_type": "code",
   "execution_count": null,
   "metadata": {},
   "outputs": [],
   "source": [
    "# write your answer here"
   ]
  },
  {
   "cell_type": "markdown",
   "metadata": {},
   "source": [
    "Now consider the function:\n",
    "$$\n",
    "f(x_1,x_2) = x_1 \\cdot x_2\n",
    "$$"
   ]
  },
  {
   "cell_type": "code",
   "execution_count": null,
   "metadata": {},
   "outputs": [],
   "source": [
    "f = lambda x: x[0]*x[1]\n",
    "F = np.array([f(x) for x in X])"
   ]
  },
  {
   "cell_type": "markdown",
   "metadata": {},
   "source": [
    "**Question 3:** Compute the approximation of $f(y)$ using the full algorithm. Compare with the true value."
   ]
  },
  {
   "cell_type": "code",
   "execution_count": null,
   "metadata": {},
   "outputs": [],
   "source": [
    "# write your answer here"
   ]
  },
  {
   "cell_type": "markdown",
   "metadata": {},
   "source": [
    "**Question 4:** Repeat question 3 for all points in the set $Y$."
   ]
  },
  {
   "cell_type": "code",
   "execution_count": null,
   "metadata": {},
   "outputs": [],
   "source": [
    "Y = [(0.2,0.2),(0.8,0.2),(0.8,0.8),(0.8,0.2),(0.5,0.5)]"
   ]
  },
  {
   "cell_type": "code",
   "execution_count": null,
   "metadata": {},
   "outputs": [],
   "source": [
    "# write your answer here"
   ]
  }
 ],
 "metadata": {
  "kernelspec": {
   "display_name": "base",
   "language": "python",
   "name": "python3"
  },
  "language_info": {
   "codemirror_mode": {
    "name": "ipython",
    "version": 3
   },
   "file_extension": ".py",
   "mimetype": "text/x-python",
   "name": "python",
   "nbconvert_exporter": "python",
   "pygments_lexer": "ipython3",
   "version": "3.11.8"
  }
 },
 "nbformat": 4,
 "nbformat_minor": 2
}
