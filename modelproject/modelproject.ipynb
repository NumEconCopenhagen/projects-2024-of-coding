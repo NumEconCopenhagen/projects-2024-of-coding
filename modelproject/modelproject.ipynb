{
 "cells": [
  {
   "cell_type": "markdown",
   "metadata": {},
   "source": [
    "# YOUR PROJECT TITLE"
   ]
  },
  {
   "cell_type": "markdown",
   "metadata": {},
   "source": [
    "> **Note the following:** \n",
    "> 1. This is *not* meant to be an example of an actual **model analysis project**, just an example of how to structure such a project.\n",
    "> 1. Remember the general advice on structuring and commenting your code\n",
    "> 1. The `modelproject.py` file includes a function which could be used multiple times in this notebook."
   ]
  },
  {
   "cell_type": "markdown",
   "metadata": {},
   "source": [
    "## 1. Model Description"
   ]
  },
  {
   "cell_type": "markdown",
   "metadata": {},
   "source": [
    "1. **IS:** $$ y_{t} - \\bar{y} = \\alpha_{1} (g_{t} - \\bar{g}) - \\alpha_{2} (r_{t} - \\bar{r}) - \\alpha_{3} (\\tau_{t} - \\bar{\\tau}) + v_{t} $$\n",
    "\n",
    "2. **Real interest rate:** $$ r_{t} \\equiv i_{t} - \\pi^e_{t+1} $$\n",
    "\n",
    "3. **Nominal interest rate:** $$ i_{t} = \\bar{r} + \\pi^e + h (y_{t} - \\bar{y}) + b (\\pi_{t} - \\pi^{*}) + \\hat{\\rho}_{t} $$\n",
    "\n",
    "4. **Phillips curve:** $$ \\pi_{t} = \\pi^e_t + \\gamma (y_{t} - \\bar{y}) + s_{t} $$\n",
    "\n",
    "5. **Expectations formation:** $$ \\pi^e_t = \\pi_{t-1} $$\n",
    "\n",
    "Which (with some math) can be derived as\n",
    "\n",
    "6. **AD-curve:** $$y_{t}-\\bar{y} = -a (\\pi^{\\ast}-\\pi_t) + z \\Leftrightarrow \\pi_t = \\frac{1}{a}(y_{t} - \\bar{y} - a\\pi^{\\ast} + z) $$\n",
    "\n",
    "7.  **AS curve:** $$\\pi_t = \\pi_{t-1} + \\gamma (y-\\bar{y}) + s_t$$\n",
    "\n",
    "where\n",
    "$$a \\equiv \\frac{\\alpha_2 h}{1 + \\alpha_2b}, \\quad z_t \\equiv \\frac{\\alpha_1(g_t - \\bar{g}) + \\alpha_3(\\tau - \\bar{\\tau}) + v_t - \\alpha_2\\hat{\\rho}_t}{1 + \\alpha_2b}$$\n",
    "\n",
    "\n"
   ]
  },
  {
   "cell_type": "markdown",
   "metadata": {},
   "source": [
    "Define the **output and inflation gaps**:"
   ]
  },
  {
   "cell_type": "markdown",
   "metadata": {},
   "source": [
    "\n",
    "8. **Output:** $$\\hat{y}_{t} = -\\bar{y}$$\n",
    "9. **Inflation:** $$\\hat{\\pi}_{t} = \\pi-\\pi^{\\ast}$$"
   ]
  },
  {
   "cell_type": "markdown",
   "metadata": {},
   "source": [
    "The model's shock parameters $v_t$, $\\hat{\\rho}_t$, and $s_t$ are all initially set to zero. The model's other parameters are strictly positive. Note that by a positive supply shock, we understand a decrease in $s_t$"
   ]
  },
  {
   "cell_type": "markdown",
   "metadata": {},
   "source": [
    "Imports and set magics:"
   ]
  },
  {
   "cell_type": "code",
   "execution_count": 4,
   "metadata": {},
   "outputs": [
    {
     "name": "stdout",
     "output_type": "stream",
     "text": [
      "The autoreload extension is already loaded. To reload it, use:\n",
      "  %reload_ext autoreload\n"
     ]
    }
   ],
   "source": [
    "import numpy as np\n",
    "from scipy import optimize\n",
    "import sympy as sm\n",
    "\n",
    "# autoreload modules when code is run\n",
    "%load_ext autoreload\n",
    "%autoreload 2\n",
    "\n",
    "# local moduless\n",
    "import modelproject"
   ]
  },
  {
   "cell_type": "markdown",
   "metadata": {},
   "source": [
    "### 1: A positive supply shock"
   ]
  },
  {
   "cell_type": "markdown",
   "metadata": {},
   "source": [
    "Initially the economy is in equilibrium. We analyze the effects of a positive supply shock hitting the economy in period 1 and disappearing in period 2.\n",
    "We want to illustrate the effects in the short and long run using a $y-\\pi$ diagram. Then provide some intuition."
   ]
  },
  {
   "cell_type": "code",
   "execution_count": 5,
   "metadata": {},
   "outputs": [
    {
     "ename": "NameError",
     "evalue": "name 'plt' is not defined",
     "output_type": "error",
     "traceback": [
      "\u001b[0;31m---------------------------------------------------------------------------\u001b[0m",
      "\u001b[0;31mNameError\u001b[0m                                 Traceback (most recent call last)",
      "Cell \u001b[0;32mIn[5], line 51\u001b[0m\n\u001b[1;32m     48\u001b[0m as_values \u001b[38;5;241m=\u001b[39m as_curve(pi, pi_1, gamma, output_range, y_bar, s_t)\n\u001b[1;32m     50\u001b[0m \u001b[38;5;66;03m# Plotting the curves\u001b[39;00m\n\u001b[0;32m---> 51\u001b[0m plt\u001b[38;5;241m.\u001b[39mfigure(figsize\u001b[38;5;241m=\u001b[39m(\u001b[38;5;241m10\u001b[39m, \u001b[38;5;241m6\u001b[39m))\n\u001b[1;32m     52\u001b[0m plt\u001b[38;5;241m.\u001b[39mplot(output_range, ad_values, label\u001b[38;5;241m=\u001b[39m\u001b[38;5;124m'\u001b[39m\u001b[38;5;124mAD Curve\u001b[39m\u001b[38;5;124m'\u001b[39m, color\u001b[38;5;241m=\u001b[39m\u001b[38;5;124m'\u001b[39m\u001b[38;5;124mblue\u001b[39m\u001b[38;5;124m'\u001b[39m)\n\u001b[1;32m     53\u001b[0m plt\u001b[38;5;241m.\u001b[39mplot(output_range, as_values, label\u001b[38;5;241m=\u001b[39m\u001b[38;5;124m'\u001b[39m\u001b[38;5;124mAS Curve\u001b[39m\u001b[38;5;124m'\u001b[39m, color\u001b[38;5;241m=\u001b[39m\u001b[38;5;124m'\u001b[39m\u001b[38;5;124mred\u001b[39m\u001b[38;5;124m'\u001b[39m)\n",
      "\u001b[0;31mNameError\u001b[0m: name 'plt' is not defined"
     ]
    }
   ],
   "source": [
    "# Parameters\n",
    "ar = 0.02\n",
    "y_bar = 0.1\n",
    "gamma = 200  # Positive slope\n",
    "alpha_1 = 0.025\n",
    "alpha_2 = 0.025\n",
    "alpha_3 = 0.025\n",
    "h = 0.2\n",
    "b = 0.5\n",
    "g_bar = 0.2\n",
    "tau_bar = 0.2\n",
    "tau = 0.2\n",
    "g_t = 0.2\n",
    "v_t = 0\n",
    "rho_t = 0\n",
    "s_t = 0\n",
    "pi = 0.02\n",
    "pi_1 = 0.02\n",
    "\n",
    "# Function to calculate z_t\n",
    "def calculate_z_t(alpha_1, h, alpha_2, b, g_t, g_bar, alpha_3, tau, tau_bar, v_t, rho_t):\n",
    "    a = (alpha_2 * h) / (1 + alpha_2 * b)\n",
    "    z_t = (alpha_1 * (g_t - g_bar) + alpha_3 * (tau - tau_bar) + v_t - alpha_2 * rho_t) / (1 + alpha_2 * b)\n",
    "    return z_t\n",
    "\n",
    "# Function to calculate a\n",
    "def a(alpha_2, h, b):\n",
    "    a = (alpha_2 * h) / (1 + alpha_2 * b)\n",
    "    return a\n",
    "\n",
    "# calculate z_t\n",
    "z_t = calculate_z_t(alpha_1, h, alpha_2, b, g_t, g_bar, alpha_3, tau, tau_bar, v_t, rho_t)\n",
    "\n",
    "# Define AD and AS curves\n",
    "def ad_curve(y, y_bar, alpha, pi_star, pi, z_t):\n",
    "    pi = - 1 / a(alpha_2, h, b) * (y - y_bar - z_t) + pi_star\n",
    "    return pi\n",
    "\n",
    "def as_curve(pi, pi_1, gamma, y, y_bar, s_t):\n",
    "    pi = pi_1 + gamma * (y - y_bar) + s_t\n",
    "    return pi\n",
    "\n",
    "# Range of output values\n",
    "output_range = np.linspace(0, 0.3, 100)\n",
    "\n",
    "# Calculate AD and AS curves\n",
    "ad_values = ad_curve(output_range, y_bar, alpha_2, pi, pi, z_t)\n",
    "as_values = as_curve(pi, pi_1, gamma, output_range, y_bar, s_t)\n",
    "\n",
    "# Plotting the curves\n",
    "plt.figure(figsize=(10, 6))\n",
    "plt.plot(output_range, ad_values, label='AD Curve', color='blue')\n",
    "plt.plot(output_range, as_values, label='AS Curve', color='red')\n",
    "plt.xlabel('Output (Y)')\n",
    "plt.ylabel('Inflation Rate (π)')\n",
    "plt.title('Aggregate Demand (AD) and Aggregate Supply (AS) Curves')\n",
    "plt.axhline(y=pi, color='black', linestyle='--', label='Equilibrium Inflation Rate')\n",
    "plt.axvline(x=output_range[np.argmin(np.abs(ad_values - as_values))], color='green', linestyle='--', label='Equilibrium Output (Y)')\n",
    "plt.legend()\n",
    "plt.grid(True)\n",
    "plt.show()\n"
   ]
  },
  {
   "cell_type": "code",
   "execution_count": null,
   "metadata": {},
   "outputs": [
    {
     "ename": "NameError",
     "evalue": "name 'plt' is not defined",
     "output_type": "error",
     "traceback": [
      "\u001b[0;31m---------------------------------------------------------------------------\u001b[0m",
      "\u001b[0;31mNameError\u001b[0m                                 Traceback (most recent call last)",
      "Cell \u001b[0;32mIn[3], line 16\u001b[0m\n\u001b[1;32m     13\u001b[0m as_values_positive \u001b[38;5;241m=\u001b[39m pi_1 \u001b[38;5;241m+\u001b[39m gamma \u001b[38;5;241m*\u001b[39m (output_range \u001b[38;5;241m-\u001b[39m y_bar) \u001b[38;5;241m+\u001b[39m s_t_new\n\u001b[1;32m     15\u001b[0m \u001b[38;5;66;03m# Plotting the curves\u001b[39;00m\n\u001b[0;32m---> 16\u001b[0m plt\u001b[38;5;241m.\u001b[39mfigure(figsize\u001b[38;5;241m=\u001b[39m(\u001b[38;5;241m10\u001b[39m, \u001b[38;5;241m6\u001b[39m))\n\u001b[1;32m     17\u001b[0m plt\u001b[38;5;241m.\u001b[39mplot(output_range, as_values_initial, label\u001b[38;5;241m=\u001b[39m\u001b[38;5;124m'\u001b[39m\u001b[38;5;124mAS Curve (Initial)\u001b[39m\u001b[38;5;124m'\u001b[39m, color\u001b[38;5;241m=\u001b[39m\u001b[38;5;124m'\u001b[39m\u001b[38;5;124mred\u001b[39m\u001b[38;5;124m'\u001b[39m, linestyle\u001b[38;5;241m=\u001b[39m\u001b[38;5;124m'\u001b[39m\u001b[38;5;124m--\u001b[39m\u001b[38;5;124m'\u001b[39m)\n\u001b[1;32m     18\u001b[0m plt\u001b[38;5;241m.\u001b[39mplot(output_range, as_values_positive, label\u001b[38;5;241m=\u001b[39m\u001b[38;5;124m'\u001b[39m\u001b[38;5;124mAS Curve (Positive Shock)\u001b[39m\u001b[38;5;124m'\u001b[39m, color\u001b[38;5;241m=\u001b[39m\u001b[38;5;124m'\u001b[39m\u001b[38;5;124mgreen\u001b[39m\u001b[38;5;124m'\u001b[39m, linestyle\u001b[38;5;241m=\u001b[39m\u001b[38;5;124m'\u001b[39m\u001b[38;5;124m--\u001b[39m\u001b[38;5;124m'\u001b[39m)\n",
      "\u001b[0;31mNameError\u001b[0m: name 'plt' is not defined"
     ]
    }
   ],
   "source": [
    "output_range = np.linspace(0, 0.3, 100)\n",
    "\n",
    "s_t_initial = 0\n",
    "s_t_new = -10\n",
    "\n",
    "# AD curve in equilibrium\n",
    "ad_values_initial = ad_curve(output_range, y_bar, alpha_2, pi, pi, z_t)\n",
    "\n",
    "# Calculate AS curve with initial supply shock\n",
    "as_values_initial = pi_1 + gamma * (output_range - y_bar) + s_t_initial\n",
    "\n",
    "# Calculate AS curve with positive supply shock\n",
    "as_values_positive = pi_1 + gamma * (output_range - y_bar) + s_t_new\n",
    "\n",
    "# Plotting the curves\n",
    "plt.figure(figsize=(10, 6))\n",
    "plt.plot(output_range, as_values_initial, label='AS Curve (Initial)', color='red', linestyle='--')\n",
    "plt.plot(output_range, as_values_positive, label='AS Curve (Positive Shock)', color='green', linestyle='--')\n",
    "plt.plot(output_range, ad_values_initial, label='AD Curve', color='blue')\n",
    "plt.xlabel('Output (Y)')\n",
    "plt.ylabel('Inflation Rate (π)')\n",
    "plt.title('AS-AD Curves with Positive Supply Shock')\n",
    "plt.axhline(y=pi, color='black', linestyle='--', label='Initial Equilibrium Inflation Rate')\n",
    "plt.axvline(x=output_range[np.argmin(np.abs(as_values_initial - pi))], color='red', linestyle='--', label='Initial Equilibrium Output (Y)')\n",
    "plt.axvline(x=output_range[np.argmin(np.abs(as_values_positive - pi))], color='green', linestyle='--', label='Equilibrium Output (Y) after Positive Shock')\n",
    "plt.legend()\n",
    "plt.grid(True)\n",
    "plt.show()\n",
    "\n",
    "\n",
    "interactive_plot = interactive(plot_supply_shock, s_t_new=(-0.2, 0.2, 0.01))\n",
    "interactive_plot"
   ]
  },
  {
   "cell_type": "markdown",
   "metadata": {},
   "source": [
    "In period 1, the positive supply shock hits, causing the AS curve to shift downward by the distance $|s_t|$, resulting in lower inflation and higher output. The economic interpretation is that the supply shock puts downward pressure on inflation. This prompts the central bank to ease monetary policy, leading to an increase in output. The rise in output boosts employment, causing the marginal product of labor to decline, and consequently, the marginal production costs increase. This puts upward pressure on inflation, explaining why inflation falls less than $|s|$. The upward pressure on inflation prompts the central bank to moderate the easing of monetary policy."
   ]
  },
  {
   "cell_type": "code",
   "execution_count": null,
   "metadata": {},
   "outputs": [],
   "source": [
    "# Plot AS-AD model\n",
    "# Define basic model functions\n",
    "def AS(y, pi_previous, s_t, gamma=0.3):\n",
    "    return pi_previous + gamma * (y - bar_y) + s_t\n",
    "\n",
    "def AD(y, alpha=0.1, pi_star=2):\n",
    "    return pi_star - alpha * (y - bar_y)"
   ]
  },
  {
   "cell_type": "markdown",
   "metadata": {},
   "source": [
    "Above, we see that the economy initially finds itself in the long-run equilibrium, where $ y = \\bar{y} $ and $ \\pi = \\pi^* $. Then comes the positive supply shock\n"
   ]
  },
  {
   "cell_type": "markdown",
   "metadata": {},
   "source": [
    "Analyze the effects of a positive supply shock hitting the economy in period 1 and disappearing in period 2.\n",
    "We want to illustrate the effects in the short and long run using a $y-\\pi$ diagram. Then provide some intuition."
   ]
  },
  {
   "cell_type": "markdown",
   "metadata": {},
   "source": [
    "# Model description"
   ]
  },
  {
   "cell_type": "markdown",
   "metadata": {},
   "source": [
    "**Write out the model in equations here.** \n",
    "\n",
    "Make sure you explain well the purpose of the model and comment so that other students who may not have seen it before can follow.  "
   ]
  },
  {
   "cell_type": "markdown",
   "metadata": {},
   "source": [
    "## Analytical solution"
   ]
  },
  {
   "cell_type": "markdown",
   "metadata": {},
   "source": [
    "If your model allows for an analytical solution, you should provide here.\n",
    "\n",
    "You may use Sympy for this. Then you can characterize the solution as a function of a parameter of the model.\n",
    "\n",
    "To characterize the solution, first derive a steady state equation as a function of a parameter using Sympy.solve and then turn it into a python function by Sympy.lambdify. See the lecture notes for details. "
   ]
  },
  {
   "cell_type": "markdown",
   "metadata": {},
   "source": [
    "## Numerical solution"
   ]
  },
  {
   "cell_type": "markdown",
   "metadata": {},
   "source": [
    "You can always solve a model numerically. \n",
    "\n",
    "Define first the set of parameters you need. \n",
    "\n",
    "Then choose one of the optimization algorithms that we have gone through in the lectures based on what you think is most fitting for your model.\n",
    "\n",
    "Are there any problems with convergence? Does the model converge for all starting values? Make a lot of testing to figure these things out. "
   ]
  },
  {
   "cell_type": "markdown",
   "metadata": {},
   "source": [
    "# Further analysis"
   ]
  },
  {
   "cell_type": "markdown",
   "metadata": {},
   "source": [
    "Make detailed vizualizations of how your model changes with parameter values. \n",
    "\n",
    "Try to make an extension of the model. "
   ]
  },
  {
   "cell_type": "markdown",
   "metadata": {},
   "source": [
    "# Conclusion"
   ]
  },
  {
   "cell_type": "markdown",
   "metadata": {},
   "source": [
    "Add concise conclusion. "
   ]
  }
 ],
 "metadata": {
  "kernelspec": {
   "display_name": "base",
   "language": "python",
   "name": "python3"
  },
  "language_info": {
   "codemirror_mode": {
    "name": "ipython",
    "version": 3
   },
   "file_extension": ".py",
   "mimetype": "text/x-python",
   "name": "python",
   "nbconvert_exporter": "python",
   "pygments_lexer": "ipython3",
   "version": "3.11.7"
  },
  "toc-autonumbering": true,
  "vscode": {
   "interpreter": {
    "hash": "47ef90cdf3004d3f859f1fb202523c65c07ba7c22eefd261b181f4744e2d0403"
   }
  }
 },
 "nbformat": 4,
 "nbformat_minor": 4
}
